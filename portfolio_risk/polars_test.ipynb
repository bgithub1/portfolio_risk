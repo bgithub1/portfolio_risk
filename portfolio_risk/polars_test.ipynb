{
 "cells": [
  {
   "cell_type": "code",
   "execution_count": 5,
   "id": "9f8774ff",
   "metadata": {},
   "outputs": [
    {
     "data": {
      "text/html": [
       "<div><style>\n",
       ".dataframe > thead > tr > th,\n",
       ".dataframe > tbody > tr > td {\n",
       "  text-align: right;\n",
       "}\n",
       "</style>\n",
       "<small>shape: (5, 4)</small><table border=\"1\" class=\"dataframe\"><thead><tr><th>nrs</th><th>names</th><th>random</th><th>groups</th></tr><tr><td>i64</td><td>str</td><td>f64</td><td>str</td></tr></thead><tbody><tr><td>1</td><td>&quot;foo&quot;</td><td>0.154163</td><td>&quot;A&quot;</td></tr><tr><td>2</td><td>&quot;ham&quot;</td><td>0.74005</td><td>&quot;A&quot;</td></tr><tr><td>3</td><td>&quot;spam&quot;</td><td>0.263315</td><td>&quot;B&quot;</td></tr><tr><td>null</td><td>&quot;egg&quot;</td><td>0.533739</td><td>&quot;C&quot;</td></tr><tr><td>5</td><td>null</td><td>0.014575</td><td>&quot;B&quot;</td></tr></tbody></table></div>"
      ],
      "text/plain": [
       "shape: (5, 4)\n",
       "┌──────┬───────┬──────────┬────────┐\n",
       "│ nrs  ┆ names ┆ random   ┆ groups │\n",
       "│ ---  ┆ ---   ┆ ---      ┆ ---    │\n",
       "│ i64  ┆ str   ┆ f64      ┆ str    │\n",
       "╞══════╪═══════╪══════════╪════════╡\n",
       "│ 1    ┆ foo   ┆ 0.154163 ┆ A      │\n",
       "│ 2    ┆ ham   ┆ 0.74005  ┆ A      │\n",
       "│ 3    ┆ spam  ┆ 0.263315 ┆ B      │\n",
       "│ null ┆ egg   ┆ 0.533739 ┆ C      │\n",
       "│ 5    ┆ null  ┆ 0.014575 ┆ B      │\n",
       "└──────┴───────┴──────────┴────────┘"
      ]
     },
     "metadata": {},
     "output_type": "display_data"
    }
   ],
   "source": [
    "import polars as pl\n",
    "import numpy as np\n",
    "from IPython.display import display\n",
    "np.random.seed(12)\n",
    "\n",
    "df = pl.DataFrame(\n",
    "    {\n",
    "        \"nrs\": [1, 2, 3, None, 5],\n",
    "        \"names\": [\"foo\", \"ham\", \"spam\", \"egg\", None],\n",
    "        \"random\": np.random.rand(5),\n",
    "        \"groups\": [\"A\", \"A\", \"B\", \"C\", \"B\"],\n",
    "    }\n",
    ")\n",
    "display(df)\n"
   ]
  },
  {
   "cell_type": "code",
   "execution_count": 6,
   "id": "1cdc7462",
   "metadata": {},
   "outputs": [],
   "source": [
    "import pathlib"
   ]
  },
  {
   "cell_type": "code",
   "execution_count": 7,
   "id": "0154f249",
   "metadata": {},
   "outputs": [],
   "source": [
    "home = pathlib.Path.home()"
   ]
  },
  {
   "cell_type": "code",
   "execution_count": 10,
   "id": "91828c88",
   "metadata": {},
   "outputs": [],
   "source": [
    "df = pl.read_csv(f'{str(home)}/Downloads/all_options.csv')"
   ]
  },
  {
   "cell_type": "code",
   "execution_count": 14,
   "id": "fac6ceee",
   "metadata": {},
   "outputs": [
    {
     "data": {
      "text/html": [
       "<div><style>\n",
       ".dataframe > thead > tr > th,\n",
       ".dataframe > tbody > tr > td {\n",
       "  text-align: right;\n",
       "}\n",
       "</style>\n",
       "<small>shape: (5, 11)</small><table border=\"1\" class=\"dataframe\"><thead><tr><th>symbol</th><th>strike</th><th>pc</th><th>settle_date</th><th>open</th><th>high</th><th>low</th><th>close</th><th>adj_close</th><th>volume</th><th>open_interest</th></tr><tr><td>str</td><td>f64</td><td>str</td><td>i64</td><td>f64</td><td>f64</td><td>f64</td><td>f64</td><td>f64</td><td>i64</td><td>i64</td></tr></thead><tbody><tr><td>&quot;CBZ16&quot;</td><td>82.0</td><td>&quot;C&quot;</td><td>20130207</td><td>0.0</td><td>22.28</td><td>22.28</td><td>22.28</td><td>22.28</td><td>0</td><td>0</td></tr><tr><td>&quot;CBZ16&quot;</td><td>82.0</td><td>&quot;P&quot;</td><td>20130207</td><td>0.0</td><td>8.99</td><td>8.99</td><td>8.99</td><td>8.99</td><td>0</td><td>0</td></tr><tr><td>&quot;CBZ16&quot;</td><td>82.5</td><td>&quot;C&quot;</td><td>20130207</td><td>0.0</td><td>21.97</td><td>21.97</td><td>21.97</td><td>21.97</td><td>0</td><td>0</td></tr><tr><td>&quot;CBZ16&quot;</td><td>82.5</td><td>&quot;P&quot;</td><td>20130207</td><td>0.0</td><td>9.18</td><td>9.18</td><td>9.18</td><td>9.18</td><td>0</td><td>0</td></tr><tr><td>&quot;CBZ16&quot;</td><td>83.0</td><td>&quot;C&quot;</td><td>20130207</td><td>0.0</td><td>21.67</td><td>21.67</td><td>21.67</td><td>21.67</td><td>0</td><td>0</td></tr></tbody></table></div>"
      ],
      "text/plain": [
       "shape: (5, 11)\n",
       "┌────────┬────────┬─────┬─────────────┬───┬───────┬───────────┬────────┬───────────────┐\n",
       "│ symbol ┆ strike ┆ pc  ┆ settle_date ┆ … ┆ close ┆ adj_close ┆ volume ┆ open_interest │\n",
       "│ ---    ┆ ---    ┆ --- ┆ ---         ┆   ┆ ---   ┆ ---       ┆ ---    ┆ ---           │\n",
       "│ str    ┆ f64    ┆ str ┆ i64         ┆   ┆ f64   ┆ f64       ┆ i64    ┆ i64           │\n",
       "╞════════╪════════╪═════╪═════════════╪═══╪═══════╪═══════════╪════════╪═══════════════╡\n",
       "│ CBZ16  ┆ 82.0   ┆ C   ┆ 20130207    ┆ … ┆ 22.28 ┆ 22.28     ┆ 0      ┆ 0             │\n",
       "│ CBZ16  ┆ 82.0   ┆ P   ┆ 20130207    ┆ … ┆ 8.99  ┆ 8.99      ┆ 0      ┆ 0             │\n",
       "│ CBZ16  ┆ 82.5   ┆ C   ┆ 20130207    ┆ … ┆ 21.97 ┆ 21.97     ┆ 0      ┆ 0             │\n",
       "│ CBZ16  ┆ 82.5   ┆ P   ┆ 20130207    ┆ … ┆ 9.18  ┆ 9.18      ┆ 0      ┆ 0             │\n",
       "│ CBZ16  ┆ 83.0   ┆ C   ┆ 20130207    ┆ … ┆ 21.67 ┆ 21.67     ┆ 0      ┆ 0             │\n",
       "└────────┴────────┴─────┴─────────────┴───┴───────┴───────────┴────────┴───────────────┘"
      ]
     },
     "execution_count": 14,
     "metadata": {},
     "output_type": "execute_result"
    }
   ],
   "source": [
    "df.tail()"
   ]
  },
  {
   "cell_type": "code",
   "execution_count": 16,
   "id": "cfc9d004",
   "metadata": {},
   "outputs": [
    {
     "data": {
      "text/html": [
       "<div><style>\n",
       ".dataframe > thead > tr > th,\n",
       ".dataframe > tbody > tr > td {\n",
       "  text-align: right;\n",
       "}\n",
       "</style>\n",
       "<small>shape: (5, 11)</small><table border=\"1\" class=\"dataframe\"><thead><tr><th>symbol</th><th>strike</th><th>pc</th><th>settle_date</th><th>open</th><th>high</th><th>low</th><th>close</th><th>adj_close</th><th>volume</th><th>open_interest</th></tr><tr><td>str</td><td>f64</td><td>str</td><td>i64</td><td>f64</td><td>f64</td><td>f64</td><td>f64</td><td>f64</td><td>i64</td><td>i64</td></tr></thead><tbody><tr><td>&quot;CLZ17&quot;</td><td>88.0</td><td>&quot;C&quot;</td><td>20130206</td><td>0.0</td><td>13.53</td><td>13.53</td><td>13.53</td><td>13.53</td><td>0</td><td>100</td></tr><tr><td>&quot;CLZ17&quot;</td><td>89.0</td><td>&quot;C&quot;</td><td>20130206</td><td>0.0</td><td>13.1</td><td>13.1</td><td>13.1</td><td>13.1</td><td>0</td><td>500</td></tr><tr><td>&quot;CLZ17&quot;</td><td>90.0</td><td>&quot;C&quot;</td><td>20130206</td><td>0.0</td><td>12.67</td><td>12.67</td><td>12.67</td><td>12.67</td><td>0</td><td>3250</td></tr><tr><td>&quot;CLZ17&quot;</td><td>90.0</td><td>&quot;P&quot;</td><td>20130206</td><td>0.0</td><td>16.71</td><td>16.71</td><td>16.71</td><td>16.71</td><td>0</td><td>100</td></tr><tr><td>&quot;CLZ17&quot;</td><td>92.5</td><td>&quot;C&quot;</td><td>20130206</td><td>0.0</td><td>11.66</td><td>11.66</td><td>11.66</td><td>11.66</td><td>0</td><td>2100</td></tr></tbody></table></div>"
      ],
      "text/plain": [
       "shape: (5, 11)\n",
       "┌────────┬────────┬─────┬─────────────┬───┬───────┬───────────┬────────┬───────────────┐\n",
       "│ symbol ┆ strike ┆ pc  ┆ settle_date ┆ … ┆ close ┆ adj_close ┆ volume ┆ open_interest │\n",
       "│ ---    ┆ ---    ┆ --- ┆ ---         ┆   ┆ ---   ┆ ---       ┆ ---    ┆ ---           │\n",
       "│ str    ┆ f64    ┆ str ┆ i64         ┆   ┆ f64   ┆ f64       ┆ i64    ┆ i64           │\n",
       "╞════════╪════════╪═════╪═════════════╪═══╪═══════╪═══════════╪════════╪═══════════════╡\n",
       "│ CLZ17  ┆ 88.0   ┆ C   ┆ 20130206    ┆ … ┆ 13.53 ┆ 13.53     ┆ 0      ┆ 100           │\n",
       "│ CLZ17  ┆ 89.0   ┆ C   ┆ 20130206    ┆ … ┆ 13.1  ┆ 13.1      ┆ 0      ┆ 500           │\n",
       "│ CLZ17  ┆ 90.0   ┆ C   ┆ 20130206    ┆ … ┆ 12.67 ┆ 12.67     ┆ 0      ┆ 3250          │\n",
       "│ CLZ17  ┆ 90.0   ┆ P   ┆ 20130206    ┆ … ┆ 16.71 ┆ 16.71     ┆ 0      ┆ 100           │\n",
       "│ CLZ17  ┆ 92.5   ┆ C   ┆ 20130206    ┆ … ┆ 11.66 ┆ 11.66     ┆ 0      ┆ 2100          │\n",
       "└────────┴────────┴─────┴─────────────┴───┴───────┴───────────┴────────┴───────────────┘"
      ]
     },
     "execution_count": 16,
     "metadata": {},
     "output_type": "execute_result"
    }
   ],
   "source": [
    "# there are `str` and `dt` namespaces for specialized functions\n",
    "\n",
    "predicate = pl.col(\"symbol\").str.contains(\"CLZ\")\n",
    "\n",
    "df.filter(predicate).tail()\n"
   ]
  },
  {
   "cell_type": "code",
   "execution_count": null,
   "id": "8c112717",
   "metadata": {},
   "outputs": [],
   "source": []
  }
 ],
 "metadata": {
  "kernelspec": {
   "display_name": "Python 3 (ipykernel)",
   "language": "python",
   "name": "python3"
  },
  "language_info": {
   "codemirror_mode": {
    "name": "ipython",
    "version": 3
   },
   "file_extension": ".py",
   "mimetype": "text/x-python",
   "name": "python",
   "nbconvert_exporter": "python",
   "pygments_lexer": "ipython3",
   "version": "3.10.4"
  }
 },
 "nbformat": 4,
 "nbformat_minor": 5
}
